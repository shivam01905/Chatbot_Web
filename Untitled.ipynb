{
 "cells": [
  {
   "cell_type": "code",
   "execution_count": 3,
   "id": "96717716",
   "metadata": {},
   "outputs": [
    {
     "name": "stdout",
     "output_type": "stream",
     "text": [
      "Collecting playwright\n",
      "  Using cached playwright-1.33.0-py3-none-win_amd64.whl (29.0 MB)\n",
      "Collecting greenlet==2.0.1 (from playwright)\n",
      "  Downloading greenlet-2.0.1-cp39-cp39-win_amd64.whl (190 kB)\n",
      "                                              0.0/190.7 kB ? eta -:--:--\n",
      "     -------------------------------------- 190.7/190.7 kB 5.6 MB/s eta 0:00:00\n",
      "Collecting pyee==9.0.4 (from playwright)\n",
      "  Using cached pyee-9.0.4-py2.py3-none-any.whl (14 kB)\n",
      "Requirement already satisfied: typing-extensions in d:\\chatbot\\chatbot\\lib\\site-packages (from pyee==9.0.4->playwright) (4.5.0)\n",
      "Installing collected packages: pyee, greenlet, playwright\n",
      "Successfully installed greenlet-2.0.1 playwright-1.33.0 pyee-9.0.4\n"
     ]
    }
   ],
   "source": [
    "!pip install playwright"
   ]
  },
  {
   "cell_type": "code",
   "execution_count": 6,
   "id": "2bfff0e7",
   "metadata": {},
   "outputs": [
    {
     "name": "stderr",
     "output_type": "stream",
     "text": [
      "  File \"D:\\Chatbot\\Chatbot.py\", line 65\n",
      "    win_scroll_y \t\t= page.evaluate(\"window.scrollY\")\n",
      "TabError: inconsistent use of tabs and spaces in indentation\n"
     ]
    }
   ],
   "source": [
    "!python Chatbot.py"
   ]
  },
  {
   "cell_type": "code",
   "execution_count": null,
   "id": "fdb914da",
   "metadata": {},
   "outputs": [],
   "source": []
  }
 ],
 "metadata": {
  "kernelspec": {
   "display_name": "chatbot",
   "language": "python",
   "name": "chatbot"
  },
  "language_info": {
   "codemirror_mode": {
    "name": "ipython",
    "version": 3
   },
   "file_extension": ".py",
   "mimetype": "text/x-python",
   "name": "python",
   "nbconvert_exporter": "python",
   "pygments_lexer": "ipython3",
   "version": "3.9.7"
  }
 },
 "nbformat": 4,
 "nbformat_minor": 5
}
